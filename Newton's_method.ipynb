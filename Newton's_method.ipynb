{
  "nbformat": 4,
  "nbformat_minor": 0,
  "metadata": {
    "colab": {
      "name": "Newton's_method.ipynb",
      "provenance": [],
      "include_colab_link": true
    },
    "kernelspec": {
      "name": "python3",
      "display_name": "Python 3"
    },
    "language_info": {
      "name": "python"
    }
  },
  "cells": [
    {
      "cell_type": "markdown",
      "metadata": {
        "id": "view-in-github",
        "colab_type": "text"
      },
      "source": [
        "<a href=\"https://colab.research.google.com/github/lKhanl/newton-s-divided-difference-interpolation/blob/main/Newton's_method.ipynb\" target=\"_parent\"><img src=\"https://colab.research.google.com/assets/colab-badge.svg\" alt=\"Open In Colab\"/></a>"
      ]
    },
    {
      "cell_type": "code",
      "metadata": {
        "id": "6ivHeuT3ozN7"
      },
      "source": [
        "import numpy as np\n",
        "import matplotlib.pyplot as plt"
      ],
      "execution_count": null,
      "outputs": []
    },
    {
      "cell_type": "markdown",
      "metadata": {
        "id": "qQO6RZzjK_Lo"
      },
      "source": [
        "Inputs"
      ]
    },
    {
      "cell_type": "code",
      "metadata": {
        "id": "SyoNXjrmqBKf"
      },
      "source": [
        "x = np.array([20, 21, 23, 24, 25, 27, 29, 30])\n",
        "y = np.array([346, 362, 343, 339, 347, 346, 339, 394])"
      ],
      "execution_count": null,
      "outputs": []
    },
    {
      "cell_type": "code",
      "metadata": {
        "id": "K2FHZs-ksjd7"
      },
      "source": [
        "def NNDcoeffs(x, y):\n",
        "  n = np.shape(y)[0]\n",
        "  pyramid = np.zeros([n,n])\n",
        "  pyramid[::,0] = y\n",
        "  for i in range(1,n):\n",
        "    for j in range(n-i):\n",
        "      pyramid[j][i] = (pyramid[j+1][i-1] - pyramid[j][i-1]) / (x[j+i] - x[j])\n",
        "  return pyramid[0]       "
      ],
      "execution_count": null,
      "outputs": []
    },
    {
      "cell_type": "code",
      "metadata": {
        "id": "TsbO9VSGtyyt",
        "colab": {
          "base_uri": "https://localhost:8080/"
        },
        "outputId": "640fb6ad-f354-4352-85bb-d70a60454e0c"
      },
      "source": [
        "coeff_vector = NNDcoeffs(x, y)\n",
        "print(coeff_vector)"
      ],
      "execution_count": null,
      "outputs": [
        {
          "output_type": "stream",
          "text": [
            "[ 3.46000000e+02  1.60000000e+01 -8.50000000e+00  2.58333333e+00\n",
            " -3.08333333e-01 -3.33333333e-02  1.73032407e-02 -2.82352293e-03]\n"
          ],
          "name": "stdout"
        }
      ]
    },
    {
      "cell_type": "code",
      "metadata": {
        "id": "OwAqun_MuS8g"
      },
      "source": [
        "final_pol = np.polynomial.Polynomial([0.])\n",
        "n = coeff_vector.shape[0]"
      ],
      "execution_count": null,
      "outputs": []
    },
    {
      "cell_type": "code",
      "metadata": {
        "id": "vYBoHW8AufHq"
      },
      "source": [
        "for i in range(n):\n",
        "  p = np.polynomial.Polynomial([1.])\n",
        "  for j in range(i):\n",
        "    p_temp = np.polynomial.Polynomial([-x[j], 1.])\n",
        "    p = np.polymul(p, p_temp)\n",
        "  p *= coeff_vector[i]\n",
        "  final_pol = np.polyadd(final_pol, p)  "
      ],
      "execution_count": null,
      "outputs": []
    },
    {
      "cell_type": "code",
      "metadata": {
        "id": "P3A0sXXKu-xH",
        "colab": {
          "base_uri": "https://localhost:8080/"
        },
        "outputId": "e9ded0ca-a225-488c-8ca2-37aee4655fb5"
      },
      "source": [
        "p = np.flip(final_pol[0].coef, axis=0)\n",
        "print(p)"
      ],
      "execution_count": null,
      "outputs": [
        {
          "output_type": "stream",
          "text": [
            "[-2.82352293e-03  4.94478616e-01 -3.69310020e+01  1.52481540e+03\n",
            " -3.75874867e+04  5.53179086e+05 -4.50050568e+06  1.56149395e+07]\n"
          ],
          "name": "stdout"
        }
      ]
    },
    {
      "cell_type": "code",
      "metadata": {
        "id": "50WyEp3MLmtU"
      },
      "source": [
        "Ploting"
      ],
      "execution_count": null,
      "outputs": []
    },
    {
      "cell_type": "code",
      "metadata": {
        "id": "P5lKN6GtvIIj"
      },
      "source": [
        "x_axis = np.linspace(20, 30, num=5000)\n",
        "y_axis = np.polyval(p, x_axis)"
      ],
      "execution_count": null,
      "outputs": []
    },
    {
      "cell_type": "code",
      "metadata": {
        "colab": {
          "base_uri": "https://localhost:8080/",
          "height": 265
        },
        "id": "PFz9d23jvZ_X",
        "outputId": "db265d48-182f-4004-e4a3-4a0b2a381bdf"
      },
      "source": [
        "plt.plot(x_axis, y_axis)\n",
        "plt.show()"
      ],
      "execution_count": null,
      "outputs": [
        {
          "output_type": "display_data",
          "data": {
            "image/png": "[encoded data removed]",
            "text/plain": [
              "<Figure size 432x288 with 1 Axes>"
            ]
          },
          "metadata": {
            "tags": [],
            "needs_background": "light"
          }
        }
      ]
    },
    {
      "cell_type": "code",
      "metadata": {
        "id": "sCYZiqwDvfSN",
        "colab": {
          "base_uri": "https://localhost:8080/"
        },
        "outputId": "8d7bd870-3f29-42fa-c5ae-e907cc169f4b"
      },
      "source": [
        "print(np.polyval(p,26))"
      ],
      "execution_count": null,
      "outputs": [
        {
          "output_type": "stream",
          "text": [
            "353.3607143983245\n"
          ],
          "name": "stdout"
        }
      ]
    }
  ]
}